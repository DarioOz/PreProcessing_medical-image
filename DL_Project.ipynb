{
 "cells": [
  {
   "cell_type": "code",
   "execution_count": 1,
   "metadata": {},
   "outputs": [],
   "source": [
    "import pandas\n",
    "import openpyxl\n",
    "import os\n",
    "import shutil\n",
    "import cv2\n",
    "import matplotlib.pyplot as plt"
   ]
  },
  {
   "cell_type": "code",
   "execution_count": 2,
   "metadata": {},
   "outputs": [
    {
     "data": {
      "text/html": [
       "<div>\n",
       "<style scoped>\n",
       "    .dataframe tbody tr th:only-of-type {\n",
       "        vertical-align: middle;\n",
       "    }\n",
       "\n",
       "    .dataframe tbody tr th {\n",
       "        vertical-align: top;\n",
       "    }\n",
       "\n",
       "    .dataframe thead th {\n",
       "        text-align: right;\n",
       "    }\n",
       "</style>\n",
       "<table border=\"1\" class=\"dataframe\">\n",
       "  <thead>\n",
       "    <tr style=\"text-align: right;\">\n",
       "      <th></th>\n",
       "      <th>Name</th>\n",
       "      <th>Category</th>\n",
       "    </tr>\n",
       "  </thead>\n",
       "  <tbody>\n",
       "    <tr>\n",
       "      <th>0</th>\n",
       "      <td>ct_scan_3</td>\n",
       "      <td>1</td>\n",
       "    </tr>\n",
       "    <tr>\n",
       "      <th>1</th>\n",
       "      <td>ct_scan_5</td>\n",
       "      <td>1</td>\n",
       "    </tr>\n",
       "    <tr>\n",
       "      <th>2</th>\n",
       "      <td>ct_scan_15</td>\n",
       "      <td>1</td>\n",
       "    </tr>\n",
       "    <tr>\n",
       "      <th>3</th>\n",
       "      <td>ct_scan_16</td>\n",
       "      <td>1</td>\n",
       "    </tr>\n",
       "    <tr>\n",
       "      <th>4</th>\n",
       "      <td>ct_scan_18</td>\n",
       "      <td>1</td>\n",
       "    </tr>\n",
       "    <tr>\n",
       "      <th>...</th>\n",
       "      <td>...</td>\n",
       "      <td>...</td>\n",
       "    </tr>\n",
       "    <tr>\n",
       "      <th>457</th>\n",
       "      <td>ct_scan_631</td>\n",
       "      <td>4</td>\n",
       "    </tr>\n",
       "    <tr>\n",
       "      <th>458</th>\n",
       "      <td>ct_scan_638</td>\n",
       "      <td>4</td>\n",
       "    </tr>\n",
       "    <tr>\n",
       "      <th>459</th>\n",
       "      <td>ct_scan_639</td>\n",
       "      <td>4</td>\n",
       "    </tr>\n",
       "    <tr>\n",
       "      <th>460</th>\n",
       "      <td>ct_scan_668</td>\n",
       "      <td>4</td>\n",
       "    </tr>\n",
       "    <tr>\n",
       "      <th>461</th>\n",
       "      <td>ct_scan_686</td>\n",
       "      <td>4</td>\n",
       "    </tr>\n",
       "  </tbody>\n",
       "</table>\n",
       "<p>462 rows × 2 columns</p>\n",
       "</div>"
      ],
      "text/plain": [
       "            Name  Category\n",
       "0      ct_scan_3         1\n",
       "1      ct_scan_5         1\n",
       "2     ct_scan_15         1\n",
       "3     ct_scan_16         1\n",
       "4     ct_scan_18         1\n",
       "..           ...       ...\n",
       "457  ct_scan_631         4\n",
       "458  ct_scan_638         4\n",
       "459  ct_scan_639         4\n",
       "460  ct_scan_668         4\n",
       "461  ct_scan_686         4\n",
       "\n",
       "[462 rows x 2 columns]"
      ]
     },
     "execution_count": 2,
     "metadata": {},
     "output_type": "execute_result"
    }
   ],
   "source": [
    "path_df = 'C:\\\\Users\\\\acer\\\\OneDrive\\\\Desktop\\\\Severity_train_partition.xlsx'\n",
    "df=pandas.read_excel(path_df)\n",
    "df"
   ]
  },
  {
   "cell_type": "code",
   "execution_count": 3,
   "metadata": {},
   "outputs": [
    {
     "data": {
      "image/png": "[encoded data removed]",
      "text/plain": [
       "<Figure size 640x480 with 1 Axes>"
      ]
     },
     "metadata": {},
     "output_type": "display_data"
    }
   ],
   "source": [
    "category_counts = df[\"Category\"].value_counts()\n",
    "category_names = category_counts.index.to_list()\n",
    "patient_counts = category_counts.to_list()\n",
    "plt.bar(category_names, patient_counts)\n",
    "plt.xlabel(\"Category\")\n",
    "plt.ylabel(\"Number of Patients\")\n",
    "plt.title(\"Number of Patients per Category\")\n",
    "plt.show()"
   ]
  },
  {
   "cell_type": "code",
   "execution_count": 4,
   "metadata": {},
   "outputs": [
    {
     "name": "stdout",
     "output_type": "stream",
     "text": [
      "['ct_scan_1', 'ct_scan_215', 'ct_scan_231', 'ct_scan_245', 'ct_scan_250', 'ct_scan_299', 'ct_scan_406', 'ct_scan_441', 'ct_scan_452', 'ct_scan_459', 'ct_scan_488', 'ct_scan_492', 'ct_scan_507', 'ct_scan_508', 'ct_scan_510', 'ct_scan_516', 'ct_scan_517', 'ct_scan_522', 'ct_scan_525', 'ct_scan_530', 'ct_scan_531', 'ct_scan_538', 'ct_scan_545', 'ct_scan_546', 'ct_scan_547', 'ct_scan_548', 'ct_scan_566', 'ct_scan_567', 'ct_scan_575', 'ct_scan_576', 'ct_scan_597', 'ct_scan_601', 'ct_scan_602', 'ct_scan_626', 'ct_scan_631', 'ct_scan_638', 'ct_scan_639', 'ct_scan_668', 'ct_scan_686']\n"
     ]
    }
   ],
   "source": [
    "severity_1=[]\n",
    "severity_2=[]\n",
    "severity_3=[]\n",
    "severity_4=[]\n",
    "for el in range(len(df)):\n",
    "    category=df['Category'][el]\n",
    "    if category==1:\n",
    "        severity_1.append(df[\"Name\"][el])\n",
    "    elif category==2:\n",
    "        severity_2.append(df[\"Name\"][el])\n",
    "    elif category==3:\n",
    "        severity_3.append(df[\"Name\"][el])\n",
    "    else:\n",
    "        severity_4.append(df[\"Name\"][el])\n",
    "print(severity_4)"
   ]
  },
  {
   "cell_type": "code",
   "execution_count": 24,
   "metadata": {},
   "outputs": [],
   "source": [
    "folder_directory = os.listdir(\"C:\\\\Users\\\\acer\\\\OneDrive\\\\Desktop\\\\TRAIN_DL\")\n",
    "usefull_folder = [folder for folder in folder_directory if folder in df['Name'].tolist()]\n",
    "\n",
    "# Create the subfolders for categories\n",
    "for category in df['Category'].unique():\n",
    "    os.makedirs(f'{category}', exist_ok=True)\n",
    "\n",
    "#Move the folders in the right directory according the category assigned in the excel files \n",
    "for index, row in df.iterrows():\n",
    "    name_folder = row['Name']\n",
    "    category = row['Category']\n",
    "    if name_folder in usefull_folder:\n",
    "        origin = f'C:\\\\Users\\\\acer\\\\OneDrive\\\\Desktop\\\\TRAIN_DL/{name_folder}'\n",
    "        destination = f'{category}/{name_folder}'\n",
    "        os.rename(origin, destination)"
   ]
  },
  {
   "cell_type": "markdown",
   "metadata": {},
   "source": [
    "### Rename each scan with the folder name"
   ]
  },
  {
   "cell_type": "code",
   "execution_count": 7,
   "metadata": {},
   "outputs": [],
   "source": [
    "def rinomina_immagini(cartella_paziente):\n",
    "    elenco_immagini = os.listdir(cartella_paziente)\n",
    "    #filename = os.path.basename(image_path)\n",
    "\n",
    "    for indice, nome_immagine in enumerate(elenco_immagini):\n",
    "        folder_name = os.path.dirname(os.path.join(cartella_paziente, nome_immagine))\n",
    "        estensione = os.path.splitext(nome_immagine)[1]\n",
    "        #nuovo_nome = f\"paziente_{indice + 1}{estensione}\"\n",
    "        nuovo_nome = f\"{folder_name}_{indice + 1}{estensione}\"\n",
    "\n",
    "        vecchio_percorso = os.path.join(cartella_paziente, nome_immagine)\n",
    "        nuovo_percorso = os.path.join(cartella_paziente, nuovo_nome)\n",
    "\n",
    "        os.rename(vecchio_percorso, nuovo_percorso)\n",
    "\n",
    "# Sostituisci 'percorso/della/cartella' con il percorso effettivo della tua cartella paziente\n",
    "percorso_cartella = \"C:\\\\Users\\\\acer\\\\OneDrive\\\\Desktop\\\\VS_Folder\\\\DL_crop\\\\4_crop\"\n",
    "\n",
    "# Esegui la funzione per ogni cartella paziente\n",
    "for paziente_cartella in os.listdir(percorso_cartella):\n",
    "    cartella_paziente = os.path.join(percorso_cartella, paziente_cartella)\n",
    "\n",
    "    if os.path.isdir(cartella_paziente):\n",
    "        rinomina_immagini(cartella_paziente)"
   ]
  },
  {
   "cell_type": "markdown",
   "metadata": {},
   "source": [
    "### Downscale the image"
   ]
  },
  {
   "cell_type": "code",
   "execution_count": 20,
   "metadata": {},
   "outputs": [],
   "source": [
    "# Replace 'path/to/folder' with the actual path to your image folder\n",
    "folder_path = \"C:\\\\Users\\\\acer\\\\OneDrive\\\\Desktop\\\\VS_Folder\\\\DL_299\\\\4_299\"\n",
    "\n",
    "for filename in os.listdir(folder_path):\n",
    "    if filename.endswith('.jpg'):\n",
    "        # Read the image\n",
    "        image = cv2.imread(os.path.join(folder_path, filename))\n",
    "\n",
    "        # Resize the image\n",
    "        resized_image = cv2.resize(image, (299, 299), interpolation=cv2.INTER_AREA)\n",
    "\n",
    "        # Overwrite the original image file with the resized version\n",
    "        cv2.imwrite(os.path.join(folder_path, filename), resized_image)"
   ]
  },
  {
   "cell_type": "markdown",
   "metadata": {},
   "source": [
    "### Creation of a dataset using the crop"
   ]
  },
  {
   "cell_type": "code",
   "execution_count": 13,
   "metadata": {},
   "outputs": [],
   "source": [
    "def crop(img):\n",
    "    # Copy the input image to avoid modifying the original\n",
    "    img_copy = img.copy()\n",
    "    \n",
    "    # Define the cropping percentages\n",
    "    height, width, channel = img_copy.shape\n",
    "    height_2 = int(height * (20 / 100))\n",
    "    width_2 = int(width * (100/ 100))\n",
    "    \n",
    "    # Set the top-left corner to black\n",
    "    img_copy[0:height_2, 0:width_2] = [0, 0, 0]\n",
    "    \n",
    "    # Convert the image to grayscale\n",
    "    gray = cv2.cvtColor(img_copy, cv2.COLOR_BGR2GRAY)\n",
    "    \n",
    "    # Apply binary thresholding\n",
    "    _, thresh = cv2.threshold(gray, 15, 255, cv2.THRESH_BINARY)\n",
    "    \n",
    "    # Find contours in the thresholded image\n",
    "    contours, _ = cv2.findContours(thresh, cv2.RETR_EXTERNAL, cv2.CHAIN_APPROX_SIMPLE)\n",
    "    \n",
    "    # Find the contour with the maximum area\n",
    "    cnt = max(contours, key=cv2.contourArea)\n",
    "    \n",
    "    # Get the bounding rectangle\n",
    "    x, y, w, h = cv2.boundingRect(cnt)\n",
    "    \n",
    "    # Crop the image using the bounding rectangle\n",
    "    cropped = img_copy[y:y+h, x:x+w]\n",
    "    \n",
    "    cropped = cv2.resize(cropped, (224,224), interpolation=cv2.INTER_AREA)\n",
    "    \n",
    "    return cropped"
   ]
  },
  {
   "cell_type": "code",
   "execution_count": 17,
   "metadata": {},
   "outputs": [],
   "source": [
    "# Replace 'path/to/folder' with the actual path to your image folder\n",
    "folder_path = \"C:\\\\Users\\\\acer\\\\OneDrive\\\\Desktop\\\\VS_Folder\\\\DL_crop\\\\4_crop\"\n",
    "\n",
    "for filename in os.listdir(folder_path):\n",
    "    if filename.endswith('.jpg'):\n",
    "        # Read the image\n",
    "        image = cv2.imread(os.path.join(folder_path, filename))\n",
    "\n",
    "        # Resize the image\n",
    "        cropped_image=crop(image)\n",
    "\n",
    "        # Overwrite the original image file with the resized version\n",
    "        cv2.imwrite(os.path.join(folder_path, filename), cropped_image)"
   ]
  },
  {
   "cell_type": "markdown",
   "metadata": {},
   "source": [
    "### High Pass Gaussian Filter"
   ]
  },
  {
   "cell_type": "code",
   "execution_count": null,
   "metadata": {},
   "outputs": [],
   "source": [
    "import cv2\n",
    "import numpy as np\n",
    "import matplotlib.pyplot as plt\n",
    "from PIL import Image\n",
    "from skimage.filters import sobel\n",
    "from scipy.ndimage import label\n",
    "from scipy.ndimage.morphology import binary_closing\n",
    "from skimage.filters import threshold_otsu\n",
    "from scipy.ndimage.filters import gaussian_filter"
   ]
  },
  {
   "cell_type": "code",
   "execution_count": null,
   "metadata": {},
   "outputs": [],
   "source": [
    "def fourier(image):\n",
    "    b,g,r=cv2.split(image)\n",
    "    im_f = np.fft.fft2(b)\n",
    "    final_fourier = np.fft.fftshift(im_f)\n",
    "    return final_fourier\n",
    "def inverse_f(image):\n",
    "    ishift_img = np.fft.ifftshift(image)\n",
    "    ifft_img = np.fft.ifft2(ishift_img)\n",
    "    abs_img = np.abs(ifft_img)\n",
    "    return abs_img\n",
    "def high_pass_gauss(image):\n",
    "    fourier_img=fourier(image)\n",
    "    # High-pass Gaussian filter parameters\n",
    "    cutoff_frequency = 0.5 # Adjust this value based on your requirements\n",
    "    sigma = 1 / (2 * np.pi* cutoff_frequency)\n",
    "    filtered= gaussian_filter(fourier_img, sigma=0.48)\n",
    "    plt.figure()\n",
    "    plt.subplot(1,2,1)\n",
    "    plt.imshow(np.log(abs(filtered)))\n",
    "    gauss_img=inverse_f(filtered)\n",
    "    plt.subplot(1,2,2)\n",
    "    #plt.figure(num=None, figsize=(8, 6), dpi=80)\n",
    "    plt.imshow(gauss_img, cmap='gray')"
   ]
  },
  {
   "cell_type": "code",
   "execution_count": null,
   "metadata": {},
   "outputs": [],
   "source": [
    "gauss_img=high_pass_gauss(downscaled_covid)"
   ]
  },
  {
   "cell_type": "markdown",
   "metadata": {},
   "source": [
    "### Removing subfolders"
   ]
  },
  {
   "cell_type": "code",
   "execution_count": 10,
   "metadata": {},
   "outputs": [
    {
     "ename": "Error",
     "evalue": "Destination path 'C:\\Users\\acer\\OneDrive\\Desktop\\VS_Folder\\DL\\1\\paziente_1.jpg' already exists",
     "output_type": "error",
     "traceback": [
      "\u001b[1;31m---------------------------------------------------------------------------\u001b[0m",
      "\u001b[1;31mError\u001b[0m                                     Traceback (most recent call last)",
      "Cell \u001b[1;32mIn[10], line 19\u001b[0m\n\u001b[0;32m     17\u001b[0m \u001b[38;5;28;01mfor\u001b[39;00m image_path \u001b[38;5;129;01min\u001b[39;00m image_paths:\n\u001b[0;32m     18\u001b[0m     image_path \u001b[38;5;241m=\u001b[39m os\u001b[38;5;241m.\u001b[39mpath\u001b[38;5;241m.\u001b[39mjoin(subfolder_path, image_path)\n\u001b[1;32m---> 19\u001b[0m     \u001b[43mshutil\u001b[49m\u001b[38;5;241;43m.\u001b[39;49m\u001b[43mmove\u001b[49m\u001b[43m(\u001b[49m\u001b[43mimage_path\u001b[49m\u001b[43m,\u001b[49m\u001b[43m \u001b[49m\u001b[43mmain_folder_path\u001b[49m\u001b[43m)\u001b[49m\n\u001b[0;32m     21\u001b[0m \u001b[38;5;66;03m# Delete the subfolder\u001b[39;00m\n\u001b[0;32m     22\u001b[0m shutil\u001b[38;5;241m.\u001b[39mrmtree(subfolder_path)\n",
      "File \u001b[1;32mc:\\Users\\acer\\AppData\\Local\\Programs\\Python\\Python310\\lib\\shutil.py:813\u001b[0m, in \u001b[0;36mmove\u001b[1;34m(src, dst, copy_function)\u001b[0m\n\u001b[0;32m    810\u001b[0m     real_dst \u001b[38;5;241m=\u001b[39m os\u001b[38;5;241m.\u001b[39mpath\u001b[38;5;241m.\u001b[39mjoin(dst, _basename(src))\n\u001b[0;32m    812\u001b[0m     \u001b[38;5;28;01mif\u001b[39;00m os\u001b[38;5;241m.\u001b[39mpath\u001b[38;5;241m.\u001b[39mexists(real_dst):\n\u001b[1;32m--> 813\u001b[0m         \u001b[38;5;28;01mraise\u001b[39;00m Error(\u001b[38;5;124m\"\u001b[39m\u001b[38;5;124mDestination path \u001b[39m\u001b[38;5;124m'\u001b[39m\u001b[38;5;132;01m%s\u001b[39;00m\u001b[38;5;124m'\u001b[39m\u001b[38;5;124m already exists\u001b[39m\u001b[38;5;124m\"\u001b[39m \u001b[38;5;241m%\u001b[39m real_dst)\n\u001b[0;32m    814\u001b[0m \u001b[38;5;28;01mtry\u001b[39;00m:\n\u001b[0;32m    815\u001b[0m     os\u001b[38;5;241m.\u001b[39mrename(src, real_dst)\n",
      "\u001b[1;31mError\u001b[0m: Destination path 'C:\\Users\\acer\\OneDrive\\Desktop\\VS_Folder\\DL\\1\\paziente_1.jpg' already exists"
     ]
    }
   ],
   "source": [
    "# Get the path to the main folder\n",
    "main_folder_path = \"C:\\\\Users\\\\acer\\\\OneDrive\\\\Desktop\\\\VS_Folder\\\\DL\\\\1\"\n",
    "\n",
    "\n",
    "# Get the paths to all subfolders\n",
    "subfolder_paths = os.listdir(main_folder_path)\n",
    "\n",
    "# For each subfolder, move its images to the main folder and delete the subfolder\n",
    "for subfolder_path in subfolder_paths:\n",
    "    # Get the path to the subfolder\n",
    "    subfolder_path = os.path.join(main_folder_path, subfolder_path)\n",
    "\n",
    "    # Get the path to the subfolder's images\n",
    "    image_paths = os.listdir(subfolder_path)\n",
    "\n",
    "    # For each image in the subfolder, move it to the main folder\n",
    "    for image_path in image_paths:\n",
    "        image_path = os.path.join(subfolder_path, image_path)\n",
    "        shutil.move(image_path, main_folder_path)\n",
    "\n",
    "    # Delete the subfolder\n",
    "    shutil.rmtree(subfolder_path)"
   ]
  }
 ],
 "metadata": {
  "kernelspec": {
   "display_name": "Python 3",
   "language": "python",
   "name": "python3"
  },
  "language_info": {
   "codemirror_mode": {
    "name": "ipython",
    "version": 3
   },
   "file_extension": ".py",
   "mimetype": "text/x-python",
   "name": "python",
   "nbconvert_exporter": "python",
   "pygments_lexer": "ipython3",
   "version": "3.10.7"
  }
 },
 "nbformat": 4,
 "nbformat_minor": 2
}
